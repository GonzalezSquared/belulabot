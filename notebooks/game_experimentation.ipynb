{
 "cells": [
  {
   "cell_type": "code",
   "execution_count": 1,
   "metadata": {
    "collapsed": true
   },
   "outputs": [],
   "source": [
    "import random\n",
    "import numpy as np"
   ]
  },
  {
   "cell_type": "code",
   "execution_count": 2,
   "metadata": {
    "collapsed": true
   },
   "outputs": [
    {
     "data": {
      "text/plain": [
       "['BPF',\n",
       " 'LOG4',\n",
       " 'NV_MAGICCONST',\n",
       " 'RECIP_BPF',\n",
       " 'Random',\n",
       " 'SG_MAGICCONST',\n",
       " 'SystemRandom',\n",
       " 'TWOPI',\n",
       " '_BuiltinMethodType',\n",
       " '_MethodType',\n",
       " '_Sequence',\n",
       " '_Set',\n",
       " '__all__',\n",
       " '__builtins__',\n",
       " '__cached__',\n",
       " '__doc__',\n",
       " '__file__',\n",
       " '__loader__',\n",
       " '__name__',\n",
       " '__package__',\n",
       " '__spec__',\n",
       " '_acos',\n",
       " '_ceil',\n",
       " '_cos',\n",
       " '_e',\n",
       " '_exp',\n",
       " '_inst',\n",
       " '_log',\n",
       " '_pi',\n",
       " '_random',\n",
       " '_sha512',\n",
       " '_sin',\n",
       " '_sqrt',\n",
       " '_test',\n",
       " '_test_generator',\n",
       " '_urandom',\n",
       " '_warn',\n",
       " 'betavariate',\n",
       " 'choice',\n",
       " 'expovariate',\n",
       " 'gammavariate',\n",
       " 'gauss',\n",
       " 'getrandbits',\n",
       " 'getstate',\n",
       " 'lognormvariate',\n",
       " 'normalvariate',\n",
       " 'paretovariate',\n",
       " 'randint',\n",
       " 'random',\n",
       " 'randrange',\n",
       " 'sample',\n",
       " 'seed',\n",
       " 'setstate',\n",
       " 'shuffle',\n",
       " 'triangular',\n",
       " 'uniform',\n",
       " 'vonmisesvariate',\n",
       " 'weibullvariate']"
      ]
     },
     "execution_count": 2,
     "metadata": {},
     "output_type": "execute_result"
    }
   ],
   "source": [
    "dir(random)"
   ]
  },
  {
   "cell_type": "code",
   "execution_count": 15,
   "metadata": {},
   "outputs": [
    {
     "data": {
      "text/plain": [
       "3"
      ]
     },
     "execution_count": 15,
     "metadata": {},
     "output_type": "execute_result"
    }
   ],
   "source": [
    "random.choice([1,2,3])"
   ]
  },
  {
   "cell_type": "code",
   "execution_count": 16,
   "metadata": {
    "collapsed": true
   },
   "outputs": [],
   "source": [
    "def cartesian_product_for_lists(list_1, list_2):\n",
    "    cartesian_product = []\n",
    "    for i in list_1:\n",
    "        for j in list_2:\n",
    "            cartesian_product.append((i,j))\n",
    "    return cartesian_product"
   ]
  },
  {
   "cell_type": "code",
   "execution_count": 42,
   "metadata": {},
   "outputs": [],
   "source": [
    "class new_deck_of_cards:\n",
    "    def __init__(self):\n",
    "        self.current_deck = [(pinta, numero) for (pinta, numero) in cartesian_product_for_lists(['o', 'c', 'e', 'b'], range(1,13))]\n",
    "        self.amount_of_cards = len(self.current_deck)\n",
    "    \n",
    "    def retrieve_card_at_random(self):\n",
    "        card = random.choice(self.current_deck)\n",
    "        self.current_deck.remove(card)\n",
    "        return card"
   ]
  },
  {
   "cell_type": "code",
   "execution_count": 43,
   "metadata": {
    "collapsed": true
   },
   "outputs": [],
   "source": [
    "deck = new_deck_of_cards()"
   ]
  },
  {
   "cell_type": "code",
   "execution_count": 44,
   "metadata": {
    "collapsed": true
   },
   "outputs": [
    {
     "data": {
      "text/plain": [
       "['__class__',\n",
       " '__delattr__',\n",
       " '__dict__',\n",
       " '__dir__',\n",
       " '__doc__',\n",
       " '__eq__',\n",
       " '__format__',\n",
       " '__ge__',\n",
       " '__getattribute__',\n",
       " '__gt__',\n",
       " '__hash__',\n",
       " '__init__',\n",
       " '__le__',\n",
       " '__lt__',\n",
       " '__module__',\n",
       " '__ne__',\n",
       " '__new__',\n",
       " '__reduce__',\n",
       " '__reduce_ex__',\n",
       " '__repr__',\n",
       " '__setattr__',\n",
       " '__sizeof__',\n",
       " '__str__',\n",
       " '__subclasshook__',\n",
       " '__weakref__',\n",
       " 'amount_of_cards',\n",
       " 'current_deck',\n",
       " 'retrieve_card_at_random']"
      ]
     },
     "execution_count": 44,
     "metadata": {},
     "output_type": "execute_result"
    }
   ],
   "source": [
    "dir(deck)"
   ]
  },
  {
   "cell_type": "code",
   "execution_count": 45,
   "metadata": {
    "collapsed": true
   },
   "outputs": [
    {
     "data": {
      "text/plain": [
       "[('o', 1),\n",
       " ('o', 2),\n",
       " ('o', 3),\n",
       " ('o', 4),\n",
       " ('o', 5),\n",
       " ('o', 6),\n",
       " ('o', 7),\n",
       " ('o', 8),\n",
       " ('o', 9),\n",
       " ('o', 10),\n",
       " ('o', 11),\n",
       " ('o', 12),\n",
       " ('c', 1),\n",
       " ('c', 2),\n",
       " ('c', 3),\n",
       " ('c', 4),\n",
       " ('c', 5),\n",
       " ('c', 6),\n",
       " ('c', 7),\n",
       " ('c', 8),\n",
       " ('c', 9),\n",
       " ('c', 10),\n",
       " ('c', 11),\n",
       " ('c', 12),\n",
       " ('e', 1),\n",
       " ('e', 2),\n",
       " ('e', 3),\n",
       " ('e', 4),\n",
       " ('e', 5),\n",
       " ('e', 6),\n",
       " ('e', 7),\n",
       " ('e', 8),\n",
       " ('e', 9),\n",
       " ('e', 10),\n",
       " ('e', 11),\n",
       " ('e', 12),\n",
       " ('b', 1),\n",
       " ('b', 2),\n",
       " ('b', 3),\n",
       " ('b', 4),\n",
       " ('b', 5),\n",
       " ('b', 6),\n",
       " ('b', 7),\n",
       " ('b', 8),\n",
       " ('b', 9),\n",
       " ('b', 10),\n",
       " ('b', 11),\n",
       " ('b', 12)]"
      ]
     },
     "execution_count": 45,
     "metadata": {},
     "output_type": "execute_result"
    }
   ],
   "source": [
    "deck.current_deck"
   ]
  },
  {
   "cell_type": "code",
   "execution_count": 46,
   "metadata": {},
   "outputs": [
    {
     "data": {
      "text/plain": [
       "('o', 3)"
      ]
     },
     "execution_count": 46,
     "metadata": {},
     "output_type": "execute_result"
    }
   ],
   "source": [
    "deck.retrieve_card_at_random()"
   ]
  },
  {
   "cell_type": "code",
   "execution_count": 47,
   "metadata": {
    "collapsed": true
   },
   "outputs": [
    {
     "data": {
      "text/plain": [
       "[('o', 1),\n",
       " ('o', 2),\n",
       " ('o', 4),\n",
       " ('o', 5),\n",
       " ('o', 6),\n",
       " ('o', 7),\n",
       " ('o', 8),\n",
       " ('o', 9),\n",
       " ('o', 10),\n",
       " ('o', 11),\n",
       " ('o', 12),\n",
       " ('c', 1),\n",
       " ('c', 2),\n",
       " ('c', 3),\n",
       " ('c', 4),\n",
       " ('c', 5),\n",
       " ('c', 6),\n",
       " ('c', 7),\n",
       " ('c', 8),\n",
       " ('c', 9),\n",
       " ('c', 10),\n",
       " ('c', 11),\n",
       " ('c', 12),\n",
       " ('e', 1),\n",
       " ('e', 2),\n",
       " ('e', 3),\n",
       " ('e', 4),\n",
       " ('e', 5),\n",
       " ('e', 6),\n",
       " ('e', 7),\n",
       " ('e', 8),\n",
       " ('e', 9),\n",
       " ('e', 10),\n",
       " ('e', 11),\n",
       " ('e', 12),\n",
       " ('b', 1),\n",
       " ('b', 2),\n",
       " ('b', 3),\n",
       " ('b', 4),\n",
       " ('b', 5),\n",
       " ('b', 6),\n",
       " ('b', 7),\n",
       " ('b', 8),\n",
       " ('b', 9),\n",
       " ('b', 10),\n",
       " ('b', 11),\n",
       " ('b', 12)]"
      ]
     },
     "execution_count": 47,
     "metadata": {},
     "output_type": "execute_result"
    }
   ],
   "source": [
    "deck.current_deck"
   ]
  },
  {
   "cell_type": "code",
   "execution_count": 89,
   "metadata": {},
   "outputs": [],
   "source": [
    "class player:\n",
    "    '''\n",
    "    To-do:\n",
    "        - Implement the memory stuff\n",
    "    '''\n",
    "    def __init__(self):\n",
    "        self.chips = 5000\n",
    "        self.dealer_status = False\n",
    "        self.right_to_dealer_status = False\n",
    "        self.lulo_status = False\n",
    "        self.folded_status = False # How do we deal with this. How do we let the players (bots) choose!\n",
    "        self.memory_of_past_cards = []\n",
    "        self.hand = []\n",
    "    \n",
    "    def recieve_card(self, deck):\n",
    "        self.hand.append(deck.retrieve_card_at_random())\n",
    "    \n",
    "    def recieve_hand(self, deck):\n",
    "        self.recieve_card(deck)\n",
    "        self.recieve_card(deck)\n",
    "        self.recieve_card(deck)\n",
    "    \n",
    "    def bet(self, betting_amount):\n",
    "        if betting_amount < 0 or betting_amount > self.chips:\n",
    "            raise ValueError('Incorrect betting amonut! (either negative or too big)')\n",
    "        self.chips -= betting_amount\n",
    "        return betting_amount\n",
    "    \n",
    "    def is_dealer(self):\n",
    "        return self.dealer_status\n",
    "\n",
    "    def is_right_hand(self):\n",
    "        return self.right_to_dealer_status\n",
    "\n",
    "    def is_lulo(self):\n",
    "        return self.lulo_status\n",
    "    \n",
    "    def set_chips(self, amount):\n",
    "        self.chips = amount\n",
    "    \n",
    "    def set_lulo_status(self, new_lulo_status):\n",
    "        if type(new_lulo_status) != bool:\n",
    "            raise ValueError('The new lulo status should be a boolean!')\n",
    "        self.lulo_status = new_lulo_status"
   ]
  },
  {
   "cell_type": "markdown",
   "metadata": {},
   "source": [
    "As an example, let's say we have a player and it recieves a hand:"
   ]
  },
  {
   "cell_type": "code",
   "execution_count": 98,
   "metadata": {},
   "outputs": [
    {
     "name": "stdout",
     "output_type": "stream",
     "text": [
      "[('b', 9), ('b', 1), ('o', 11)]\n"
     ]
    }
   ],
   "source": [
    "player1 = player()\n",
    "new_deck = new_deck_of_cards()\n",
    "player1.recieve_hand(new_deck)\n",
    "print(player1.hand)"
   ]
  },
  {
   "cell_type": "code",
   "execution_count": 87,
   "metadata": {},
   "outputs": [],
   "source": [
    "class global_round:\n",
    "    '''\n",
    "    This is the global round, it starts with a fresh deck, which is dealt to each player\n",
    "    '''\n",
    "    def __init__(self, _list_of_players, _current_lulo_price):\n",
    "        self.list_of_players = _list_of_players\n",
    "        self.current_lulo_price = _current_lulo_price\n",
    "        self.deck = new_deck_of_cards()\n",
    "        self.bets = [0, 0, 0]\n",
    "        self.showcard = self.deck.retrieve_card_at_random()\n",
    "    \n",
    "    def collect_money_from_lulo_players(self):\n",
    "        collective_lulo_status = False\n",
    "        all_collected_money = 0\n",
    "        for player in self.list_of_players:\n",
    "            if player.is_lulo():\n",
    "                all_collected_money += player.bet(self.current_lulo_price)\n",
    "        if all_collected_money == 0:\n",
    "            # Nobody ended being lulo-ed, so everyone should place a small amount\n",
    "            for player in self.list_of_players:\n",
    "                all_collected_money += player.bet(int(0.5 * self.current_lulo_price))\n",
    "        \n",
    "        return all_collected_money\n",
    "    \n",
    "    def collect_and_distribute_money(self):\n",
    "        '''\n",
    "        This function gets the money from lulo-ed players and distributes (randomly, for now)\n",
    "        among the head, body and tail. It does it IN PLACE.\n",
    "        '''\n",
    "        collected_money = collect_money_from_lulo_players()\n",
    "        head_amount = random.choice(range(collected_money))\n",
    "        body_amount = random.choice(range(collected_money - head_amount))\n",
    "        tail_amount = collected_money - head_amount - body_amount\n",
    "        self.bets = [head_amount, body_amount, tail_amount]\n",
    "        \n",
    "    '''\n",
    "    Questions:\n",
    "        - How to deal with the bets of each player? (even in a bot-ish way).\n",
    "    '''\n",
    "    \n",
    "    def deal_hands(self):\n",
    "        '''\n",
    "        This function deals the players 3 cards each. It does so IN PLACE.\n",
    "        '''\n",
    "        for player in self.list_of_players:\n",
    "            player.recieve_hand(self.deck)\n",
    "            "
   ]
  }
 ],
 "metadata": {
  "kernelspec": {
   "display_name": "Python 3",
   "language": "python",
   "name": "python3"
  },
  "language_info": {
   "codemirror_mode": {
    "name": "ipython",
    "version": 3
   },
   "file_extension": ".py",
   "mimetype": "text/x-python",
   "name": "python",
   "nbconvert_exporter": "python",
   "pygments_lexer": "ipython3",
   "version": "3.5.2"
  }
 },
 "nbformat": 4,
 "nbformat_minor": 2
}
